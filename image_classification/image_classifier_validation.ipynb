{
 "cells": [
  {
   "cell_type": "code",
   "execution_count": 21,
   "metadata": {},
   "outputs": [
    {
     "name": "stderr",
     "output_type": "stream",
     "text": [
      "/Users/maanders1/miniconda3/envs/junction/lib/python3.12/site-packages/torchvision/models/_utils.py:208: UserWarning: The parameter 'pretrained' is deprecated since 0.13 and may be removed in the future, please use 'weights' instead.\n",
      "  warnings.warn(\n",
      "/Users/maanders1/miniconda3/envs/junction/lib/python3.12/site-packages/torchvision/models/_utils.py:223: UserWarning: Arguments other than a weight enum or `None` for 'weights' are deprecated since 0.13 and may be removed in the future. The current behavior is equivalent to passing `weights=ResNet50_Weights.IMAGENET1K_V1`. You can also use `weights=ResNet50_Weights.DEFAULT` to get the most up-to-date weights.\n",
      "  warnings.warn(msg)\n"
     ]
    },
    {
     "data": {
      "text/plain": [
       "(4, 3)"
      ]
     },
     "execution_count": 21,
     "metadata": {},
     "output_type": "execute_result"
    }
   ],
   "source": [
    "\n",
    "import pandas as pd\n",
    "import os\n",
    "import torch\n",
    "import torchvision.transforms as transforms\n",
    "from torchvision import models\n",
    "from PIL import Image\n",
    "\n",
    "source_folders = [\"images/training/deforestation\", \"images/training/not_deforestation\"]\n",
    "\n",
    "# Load a pretrained ResNet model\n",
    "model = models.resnet50(pretrained=True)\n",
    "model.eval()  # Set the model to evaluation mode (important for inference)\n",
    "\n",
    "# Preprocess the image (resize, normalize, convert to tensor)\n",
    "transform = transforms.Compose([\n",
    "    transforms.Resize(256),  # Resize the image\n",
    "    transforms.CenterCrop(224),  # Crop the image to 224x224\n",
    "    transforms.ToTensor(),  # Convert image to tensor\n",
    "    transforms.Normalize(mean=[0.485, 0.456, 0.406], std=[0.229, 0.224, 0.225])  # Normalize\n",
    "])\n",
    "\n",
    "# Function to extract features\n",
    "def extract_features(image_path):\n",
    "    image = Image.open(image_path)  # Open image\n",
    "    image = transform(image).unsqueeze(0)  # Apply transformations and add batch dimension\n",
    "\n",
    "    with torch.no_grad():  # Disable gradient computation\n",
    "        features = model(image)  # Get the features (model output)\n",
    "    \n",
    "    return features.numpy().flatten()  # Flatten the features to a 1D array\n",
    "\n",
    "# Example: Extract features from an image\n",
    "image_features_df = pd.DataFrame(columns=[\"image\", \"features\", \"label\"])\n",
    "for i,folder in enumerate(source_folders):\n",
    "    for image in os.listdir(folder):\n",
    "        # The first folder contains deforestation images\n",
    "        if i == 0:\n",
    "            label = \"deforestation\"\n",
    "        else:\n",
    "            label = \"not_deforestation\"\n",
    "        features = extract_features(folder + '/' + image)\n",
    "        \n",
    "        data = {\"image\": image, \"features\": features, \"label\": label}\n",
    "        image_features_df.loc[len(image_features_df.index)] = data \n",
    "        \n",
    "image_features_df.shape\n",
    "        \n",
    "    \n"
   ]
  },
  {
   "cell_type": "code",
   "execution_count": 22,
   "metadata": {},
   "outputs": [],
   "source": [
    "from sklearn.model_selection import train_test_split\n",
    "from sklearn.svm import SVC\n",
    "from sklearn.preprocessing import StandardScaler\n",
    "from sklearn.metrics import accuracy_score\n",
    "from sklearn.metrics import recall_score\n",
    "from sklearn.metrics import precision_score\n",
    "import pickle\n"
   ]
  },
  {
   "cell_type": "code",
   "execution_count": 23,
   "metadata": {},
   "outputs": [
    {
     "name": "stdout",
     "output_type": "stream",
     "text": [
      "Testing dataset: 4 samples with 1000 features.\n"
     ]
    }
   ],
   "source": [
    "X_test = list(image_features_df[\"features\"].values)\n",
    "y_test = list(image_features_df[\"label\"].values)\n",
    "\n",
    "print(f\"Testing dataset: {len(X_test)} samples with {len(X_test[0])} features.\")"
   ]
  },
  {
   "cell_type": "code",
   "execution_count": 25,
   "metadata": {},
   "outputs": [
    {
     "name": "stdout",
     "output_type": "stream",
     "text": [
      "Accuracy: 75.00%\n",
      "Recall: 100.00%\n",
      "Precision: 50.00%\n"
     ]
    }
   ],
   "source": [
    "\n",
    "with open('classifier.pkl', 'rb') as f:\n",
    "    svm = pickle.load(f)\n",
    "\n",
    "# Step 4: Evaluate the model on the test set\n",
    "y_pred = svm.predict(X_test)\n",
    "\n",
    "# Calculate accuracy\n",
    "accuracy = accuracy_score(y_test, y_pred)\n",
    "recall = recall_score(y_test, y_pred, pos_label=\"deforestation\")\n",
    "precision = precision_score(y_test, y_pred, pos_label=\"deforestation\")\n",
    "print(f'Accuracy: {accuracy * 100:.2f}%')\n",
    "print(f'Recall: {recall * 100:.2f}%')\n",
    "print(f'Precision: {precision * 100:.2f}%')\n"
   ]
  }
 ],
 "metadata": {
  "kernelspec": {
   "display_name": "junction",
   "language": "python",
   "name": "python3"
  },
  "language_info": {
   "codemirror_mode": {
    "name": "ipython",
    "version": 3
   },
   "file_extension": ".py",
   "mimetype": "text/x-python",
   "name": "python",
   "nbconvert_exporter": "python",
   "pygments_lexer": "ipython3",
   "version": "3.12.7"
  }
 },
 "nbformat": 4,
 "nbformat_minor": 2
}
